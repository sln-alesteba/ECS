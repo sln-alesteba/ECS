{
 "cells": [
  {
   "cell_type": "code",
   "execution_count": 14,
   "metadata": {},
   "outputs": [],
   "source": [
    "# HIDDEN\n",
    "\n",
    "import sys\n",
    "\n",
    "import os\n",
    "\n",
    "sys.path.append(os.path.join(os.path.abspath(''), '..'))"
   ]
  },
  {
   "cell_type": "markdown",
   "metadata": {},
   "source": [
    "Entity Component Systems are an excellent solution for maintaining data separate from behavior in a rendering engine. This separation allows for better parallelization in the running code. Throughout this notebook, we present the translation of runtime data to a graph format, where the relationships between entities and components are visualized and well-suited for querying. We provide a simple example where each type of component is stored is a graph database along its relationship with entities. We read the type using reflection and typing mechanisms, and serialize it with the Cipher language into Neo4j."
   ]
  },
  {
   "cell_type": "code",
   "execution_count": 15,
   "metadata": {},
   "outputs": [],
   "source": [
    "import ECS.ecsWorld as ECS"
   ]
  },
  {
   "cell_type": "code",
   "execution_count": 16,
   "metadata": {},
   "outputs": [],
   "source": [
    "from engine.ECS.hierarchy import Hierarchy\n",
    "from engine.ECS.lifetime import Lifetime\n",
    "from engine.ECS.physics.rigidbody import Rigidbody\n",
    "from engine.ECS.render.geometryRenderer import GeometryRenderer\n",
    "from engine.ECS.transform import Transform"
   ]
  },
  {
   "cell_type": "markdown",
   "metadata": {},
   "source": [
    "In this example, we create a particle entity and attach a variety of components related to its transformation, rendering, and physics. As demonstrated, the data is composed in a relational manner, rather than the more traditional approach of decorating an object. Here, the entity is simply an ID, and a 'table' maintains the relationships to each component type. To introduce complexity and different relationships, we add a transform hierarchy to model parent-child relationships. In the ECS, the transformation service computes the global transform for each object based on its transform and hierarchy components. The hierarchy component is the means of adding parent information to an entity and contains a reference to another entity.\n",
    "\n",
    "In the following example, we model a parent entity with a simple transformation component and a child particle with additional behavior attached. Our primary interest is in reproducing the data relationships into an equivalent graph, enabling us to ask simpler questions about the scene. Some of the properties within the components are initialized to None, as the purpose of this example is to demonstrate serialization and not all objects are necessary (the Geometry Renderer requires dependencies from the rendering engine)."
   ]
  },
  {
   "cell_type": "code",
   "execution_count": 17,
   "metadata": {},
   "outputs": [],
   "source": [
    "particle_parent = ECS.create_entity()"
   ]
  },
  {
   "cell_type": "code",
   "execution_count": 18,
   "metadata": {},
   "outputs": [],
   "source": [
    "# parent components\n",
    "\n",
    "ECS.add_component(particle_parent, Transform(scale=np.array([1.5, 1.5, 1.5])))"
   ]
  },
  {
   "cell_type": "code",
   "execution_count": 19,
   "metadata": {},
   "outputs": [],
   "source": [
    "\n",
    "particle_instance = ECS.create_entity()"
   ]
  },
  {
   "cell_type": "code",
   "execution_count": 20,
   "metadata": {},
   "outputs": [],
   "source": [
    "# child components\n",
    "\n",
    "ECS.add_component(particle_instance, Hierarchy(parent=particle_parent))\n",
    "ECS.add_component(particle_instance, Transform(scale=np.array([0.5, 0.5, 0.5])))\n",
    "ECS.add_component(particle_instance, GeometryRenderer(None, None))\n",
    "ECS.add_component(particle_instance, Rigidbody(mass = 1.0))\n",
    "ECS.add_component(particle_instance, Lifetime(life = 0.5))"
   ]
  },
  {
   "cell_type": "markdown",
   "metadata": {},
   "source": [
    "We aim to translate this information into a graph-like structure and later visualize it. Additionally, a new query method allows for asking scene graphs in a different, less relational way. We want to maintain the relational approach for storage and processing in systems, but the graph transformation enables a more connected way to retrieve information about a possible snapshot of a scene."
   ]
  },
  {
   "cell_type": "code",
   "execution_count": 21,
   "metadata": {},
   "outputs": [],
   "source": [
    "# driver, entity_id, are common for all linking functions;\n",
    "\n",
    "def link_hierarchy(driver, entity_id, parent_id):\n",
    "\n",
    "    driver.execute_query(f\"\"\"\n",
    "\n",
    "        MATCH\n",
    "            (chd_{entity_id}:Entity {{ name : \"{entity_id}\" }} ),\n",
    "            (prt_{parent_id}:Entity {{ name : \"{parent_id}\" }} )\n",
    "        CREATE \n",
    "            (chd_{entity_id})-[:IS_CHILD  {{role: 'family' }}]->(prt_{parent_id}),\n",
    "            (prt_{parent_id})-[:IS_PARENT {{role: 'family' }}]->(chd_{entity_id})\n",
    "                                                \n",
    "    \"\"\")"
   ]
  },
  {
   "cell_type": "code",
   "execution_count": 22,
   "metadata": {},
   "outputs": [],
   "source": [
    "dict_t = { \n",
    "    \n",
    "    \"Hierarchy\" : (link_hierarchy, \"parent\") \n",
    "}"
   ]
  },
  {
   "cell_type": "markdown",
   "metadata": {},
   "source": [
    "In order to serialize the components, we need to read their type dynamically. For each component, the class type is translated into a graph node type, and each attribute is read and appended to the node to maintain the same data. Since each entity has a list of components, we model this relationship in the graph.\n",
    "\n",
    "There may be many other types or relationships between components and entities, but for this example, we have decided to translate the hierarchy component into the graph. We want to keep track of which entity has what parent and vice versa. For this process, a little extra code models the relationship when the 'Hierarchy' component is found in the list of entity components. It looks for the parent reference stored in the hierarchy and later translates it into the graph by linking the nodes with a bidirectional relationship: IS_PARENT, IS_CHILD."
   ]
  },
  {
   "cell_type": "code",
   "execution_count": 23,
   "metadata": {},
   "outputs": [],
   "source": [
    "def serialize_entity(driver, ent):\n",
    "\n",
    "    entity_id = ent\n",
    "\n",
    "    driver.execute_query(f\"\"\"\n",
    "                                                    \n",
    "            CREATE(entity_{entity_id}:Entity {{ name : \"{entity_id}\" }} )\n",
    "                                                    \n",
    "    \"\"\")\n",
    "\n",
    "    for component in ECS.components_for_entity(ent):\n",
    "\n",
    "        \"\"\" store variables with their state in each node component \"\"\"\n",
    "\n",
    "        cmp_nme = component.__class__.__qualname__\n",
    "\n",
    "        dic_str = str({key: '\"'+str(val)+'\"' for key, val in component.__dict__.items()})\n",
    "\n",
    "        dic_str = dic_str.replace('\\'', \"\")\n",
    "\n",
    "        driver.execute_query(f\"\"\"\n",
    "\n",
    "            MATCH\n",
    "                (entity_{entity_id}:Entity {{ name : \"{entity_id}\" }} )\n",
    "            CREATE\n",
    "                (entity_{entity_id}) \n",
    "                -[:IS_COMPONENT {{role: 'test_role' }}]\n",
    "                ->({cmp_nme}_{entity_id}:Component:{cmp_nme} {dic_str})\n",
    "                                                    \n",
    "        \"\"\")\n",
    "\n",
    "        if cmp_nme in dict_t.keys():\n",
    "\n",
    "            \"\"\" this has to be a function that maps behaviour \"\"\"\n",
    "\n",
    "            prop_func = dict_t[cmp_nme][0]\n",
    "\n",
    "            prop_name = dict_t[cmp_nme][1]\n",
    "\n",
    "            prop_func ( driver, entity_id, component.__dict__.get(prop_name) )\n"
   ]
  },
  {
   "cell_type": "code",
   "execution_count": 24,
   "metadata": {},
   "outputs": [],
   "source": [
    "URI = \"neo4j://localhost\"\n",
    "\n",
    "AUTH = (\"neo4j\", \"admin\")\n",
    "\n",
    "from neo4j import GraphDatabase\n",
    "\n",
    "with GraphDatabase.driver(URI, auth=AUTH) as driver:\n",
    "\n",
    "    driver.verify_connectivity()\n",
    "\n",
    "    serialize_entity(driver, particle_parent)\n",
    "\n",
    "    serialize_entity(driver, particle_instance)"
   ]
  },
  {
   "cell_type": "markdown",
   "metadata": {},
   "source": [
    "This small resulting graph has the entity connected to each of its components. Additionally, the relationship with the parent is now presented with a bidirectional connection of the entities involved. It differs from the rendering engine, where to obtain this information, the Hierarchy component of the entity is requeried. This serialization introduces a direct relationship, enabling straightforward queries."
   ]
  },
  {
   "cell_type": "markdown",
   "metadata": {},
   "source": [
    "![Alt text](img-1.png)"
   ]
  },
  {
   "cell_type": "markdown",
   "metadata": {},
   "source": [
    "We have created a graph equivalent of relational data. The serialization function can be extended with more relationships, although we aim to keep it simple and only connect the most important ones, such as the work done for the transform - hierarchy. A potential scenario would be the snapshot serialization of a running scene, where complex objects like particle systems with multiple instances interact with each other."
   ]
  },
  {
   "cell_type": "markdown",
   "metadata": {},
   "source": [
    "![Alt text](image-2.png)"
   ]
  },
  {
   "cell_type": "markdown",
   "metadata": {},
   "source": [
    "Finally, based on the new layout of the data, we can ask queries such as:\n",
    "\n",
    "- all the nodes with at least a parent that has geometry render component\n",
    "\n",
    "This can be written in Cipher:\n",
    "\n",
    "- MATCH p=(:Component:GeometryRenderer)--(:Entity)-[r:IS_CHILD]->() RETURN p"
   ]
  },
  {
   "cell_type": "code",
   "execution_count": 25,
   "metadata": {},
   "outputs": [
    {
     "name": "stdout",
     "output_type": "stream",
     "text": [
      "EagerResult(records=[<Record p=<Path start=<Node element_id='76' labels=frozenset({'Component', 'GeometryRenderer'}) properties={'shader': 'None', 'geometry': 'None', 'color': '[255 255 255]'}> end=<Node element_id='71' labels=frozenset({'Entity'}) properties={'name': '1'}> size=2>>, <Record p=<Path start=<Node element_id='84' labels=frozenset({'Component', 'GeometryRenderer'}) properties={'shader': 'None', 'geometry': 'None', 'color': '[255 255 255]'}> end=<Node element_id='79' labels=frozenset({'Entity'}) properties={'name': '3'}> size=2>>], summary=<neo4j._work.summary.ResultSummary object at 0x7d401dd81300>, keys=['p'])\n"
     ]
    }
   ],
   "source": [
    "with GraphDatabase.driver(URI, auth=AUTH) as driver:\n",
    "\n",
    "    driver.verify_connectivity()\n",
    "\n",
    "    r = driver.execute_query(f\"\"\"\n",
    "                                                    \n",
    "            MATCH p=(:Component:GeometryRenderer)--(:Entity)-[r:IS_CHILD]->() RETURN p\n",
    "                                                    \n",
    "    \"\"\")\n",
    "\n",
    "    print (r)"
   ]
  },
  {
   "cell_type": "markdown",
   "metadata": {},
   "source": [
    "![Alt text](img-3.png)"
   ]
  }
 ],
 "metadata": {
  "kernelspec": {
   "display_name": "venv-grph",
   "language": "python",
   "name": "python3"
  },
  "language_info": {
   "codemirror_mode": {
    "name": "ipython",
    "version": 3
   },
   "file_extension": ".py",
   "mimetype": "text/x-python",
   "name": "python",
   "nbconvert_exporter": "python",
   "pygments_lexer": "ipython3",
   "version": "3.10.12"
  },
  "orig_nbformat": 4
 },
 "nbformat": 4,
 "nbformat_minor": 2
}
